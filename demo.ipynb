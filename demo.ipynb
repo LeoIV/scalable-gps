{
 "cells": [
  {
   "cell_type": "code",
   "execution_count": 1,
   "id": "5df6b648-38d4-4f42-866e-a8a91394a2ce",
   "metadata": {},
   "outputs": [],
   "source": [
    "import numpy as np\n",
    "from matplotlib import pyplot as plt\n",
    "\n",
    "from pyspark.mllib.linalg import Vectors\n",
    "from pyspark.sql import SparkSession\n",
    "\n",
    "from scalable_gps.gp import GaussianProcess"
   ]
  },
  {
   "cell_type": "code",
   "execution_count": 2,
   "id": "6169432a-a805-4b3b-9265-7e410eedaada",
   "metadata": {},
   "outputs": [],
   "source": [
    "def test_func(x):\n",
    "    return np.sin(x)"
   ]
  },
  {
   "cell_type": "code",
   "execution_count": 3,
   "id": "ce4450f5-fb0b-400d-90df-dc1e52992658",
   "metadata": {},
   "outputs": [],
   "source": [
    "x_plot = np.linspace(-10, 10, 200)\n",
    "y_plot = test_func(x_plot)\n",
    "\n",
    "x_points = (np.random.random((10, 1)) - 0.5) * 20\n",
    "y_points = test_func(x_points.squeeze())"
   ]
  },
  {
   "cell_type": "code",
   "execution_count": 4,
   "id": "aa931fa1-4db6-43d1-b6c3-94a28aafe4c7",
   "metadata": {},
   "outputs": [
    {
     "name": "stdout",
     "output_type": "stream",
     "text": [
      "22/10/27 15:21:25 WARN Utils: Your hostname, leonard-XPS-15-9500 resolves to a loopback address: 127.0.1.1; using 192.168.1.203 instead (on interface wlp0s20f3)\n",
      "22/10/27 15:21:25 WARN Utils: Set SPARK_LOCAL_IP if you need to bind to another address\n"
     ]
    },
    {
     "name": "stderr",
     "output_type": "stream",
     "text": [
      "Setting default log level to \"WARN\".\n",
      "To adjust logging level use sc.setLogLevel(newLevel). For SparkR, use setLogLevel(newLevel).\n"
     ]
    },
    {
     "name": "stdout",
     "output_type": "stream",
     "text": [
      "22/10/27 15:21:25 WARN NativeCodeLoader: Unable to load native-hadoop library for your platform... using builtin-java classes where applicable\n"
     ]
    }
   ],
   "source": [
    "spark = SparkSession.builder.getOrCreate()\n",
    "sc = spark.sparkContext"
   ]
  },
  {
   "cell_type": "code",
   "execution_count": 5,
   "id": "64415f9f-aefd-4154-9549-79108beb053b",
   "metadata": {},
   "outputs": [
    {
     "data": {
      "text/plain": [
       "ParallelCollectionRDD[2] at readRDDFromFile at PythonRDD.scala:274"
      ]
     },
     "execution_count": 5,
     "metadata": {},
     "output_type": "execute_result"
    }
   ],
   "source": [
    "x_points_par = sc.parallelize(x_points).map(lambda x: Vectors.dense(x))\n",
    "x_points_par.cache()\n",
    "y_points_par = sc.parallelize(y_points)\n",
    "y_points_par.cache()"
   ]
  },
  {
   "cell_type": "code",
   "execution_count": null,
   "id": "81fcd439-70da-40ee-bd9a-0379012576db",
   "metadata": {},
   "outputs": [
    {
     "name": "stderr",
     "output_type": "stream",
     "text": [
      "[Stage 3:===============>                                       (41 + 12) / 144]\r"
     ]
    }
   ],
   "source": [
    "gp = GaussianProcess(x=x_points_par, y=y_points_par, lengthscales=Vectors.dense(np.ones(1)))"
   ]
  },
  {
   "cell_type": "code",
   "execution_count": null,
   "id": "92178b8c-63b7-4b2b-adcb-e5c9166add7e",
   "metadata": {},
   "outputs": [],
   "source": [
    "mean1, var1 = gp.predict_mean_var(sc.parallelize(x_plot).map(lambda x: Vectors.dense(x)))"
   ]
  },
  {
   "cell_type": "code",
   "execution_count": null,
   "id": "2eb97b66-063d-48f0-a360-02b1272de3d1",
   "metadata": {},
   "outputs": [],
   "source": [
    "plt.plot(x_plot, y_plot, label=\"True Function\")\n",
    "plt.scatter(x_points, y_points, c=\"r\",marker=\"x\", label=\"Training points\")\n",
    "plt.plot(x_plot, mean1, c=\"g\", label=\"GP\")\n",
    "plt.fill_between(x_plot, mean1-var1, mean1+var1, color=\"g\", alpha=0.2)\n",
    "plt.legend()"
   ]
  },
  {
   "cell_type": "code",
   "execution_count": null,
   "id": "2eedd5d0-32f2-4c33-a476-90f639872880",
   "metadata": {},
   "outputs": [],
   "source": []
  }
 ],
 "metadata": {
  "kernelspec": {
   "display_name": "Python 3 (ipykernel)",
   "language": "python",
   "name": "python3"
  },
  "language_info": {
   "codemirror_mode": {
    "name": "ipython",
    "version": 3
   },
   "file_extension": ".py",
   "mimetype": "text/x-python",
   "name": "python",
   "nbconvert_exporter": "python",
   "pygments_lexer": "ipython3",
   "version": "3.10.6"
  }
 },
 "nbformat": 4,
 "nbformat_minor": 5
}
